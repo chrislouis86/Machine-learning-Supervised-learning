{
 "cells": [
  {
   "cell_type": "code",
   "execution_count": 10,
   "id": "8741b65f-2b33-4b6b-8d1f-eaa3ece46455",
   "metadata": {},
   "outputs": [],
   "source": [
    "from sklearn.ensemble import GradientBoostingClassifier \n",
    "from sklearn.model_selection import train_test_split\n",
    "from sklearn.metrics import accuracy_score \n",
    "from sklearn.datasets import load_digits\n"
   ]
  },
  {
   "cell_type": "code",
   "execution_count": 11,
   "id": "b0b9be81-2bb8-4a4a-b57e-4f50c2538cd9",
   "metadata": {},
   "outputs": [],
   "source": [
    "# Setting SEED for reproducibility \n",
    "SEED = 23"
   ]
  },
  {
   "cell_type": "code",
   "execution_count": 12,
   "id": "0bde64ec-ba0a-403e-a625-80ece7be79a4",
   "metadata": {},
   "outputs": [],
   "source": [
    "# Importing the datatset \n",
    "X, y = load_digits(return_X_y=True)"
   ]
  },
  {
   "cell_type": "code",
   "execution_count": 13,
   "id": "a502ccfc-ebb5-49ff-b34b-0f69fb59e3c6",
   "metadata": {},
   "outputs": [],
   "source": [
    "# Splitting dataset \n",
    "train_X, test_X, train_y, test_y= train_test_split(X, y, \n",
    "                                                   test_size = 0.25, \n",
    "                                                    random_state = SEED)"
   ]
  },
  {
   "cell_type": "code",
   "execution_count": 14,
   "id": "2a713703-e940-48a3-8f5c-2ad51cd699f7",
   "metadata": {},
   "outputs": [
    {
     "name": "stdout",
     "output_type": "stream",
     "text": [
      "Gradient Boosting Classifier accuracy is : 0.98\n"
     ]
    }
   ],
   "source": [
    "# Instatiate Gradient Boosting Regressor\n",
    "gbc = GradientBoostingClassifier(n_estimators=300, \n",
    "                                 learning_rate=0.05, \n",
    "                                 random_state=100,\n",
    "                                 max_features=5 )\n",
    "# Fit to training set \n",
    "gbc.fit(train_X, train_y)\n",
    "\n",
    "# Predixr on test set\n",
    "pred_y = gbc.predict(test_X)\n",
    "\n",
    "# accuracy\n",
    "acc = accuracy_score(test_y, pred_y)\n",
    "print(\"Gradient Boosting Classifier accuracy is : {:.2f}\".format(acc))"
   ]
  }
 ],
 "metadata": {
  "kernelspec": {
   "display_name": "Python 3 (ipykernel)",
   "language": "python",
   "name": "python3"
  },
  "language_info": {
   "codemirror_mode": {
    "name": "ipython",
    "version": 3
   },
   "file_extension": ".py",
   "mimetype": "text/x-python",
   "name": "python",
   "nbconvert_exporter": "python",
   "pygments_lexer": "ipython3",
   "version": "3.11.9"
  }
 },
 "nbformat": 4,
 "nbformat_minor": 5
}
