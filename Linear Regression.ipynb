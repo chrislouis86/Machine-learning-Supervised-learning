{
 "cells": [
  {
   "cell_type": "code",
   "execution_count": 12,
   "id": "2f271b40-84b8-4dc9-b69a-b0fa23e50786",
   "metadata": {
    "scrolled": true
   },
   "outputs": [],
   "source": [
    "# Simple Linear Regression \n",
    "import numpy as np  # Importing Libraries \n",
    "import matplotlib.pyplot as plt \n",
    "\n"
   ]
  },
  {
   "cell_type": "code",
   "execution_count": 13,
   "id": "6aaf987d-2862-48db-bb60-43bfd580c5d8",
   "metadata": {},
   "outputs": [],
   "source": [
    "def estimate_coef(x, y): # Estimating Coefficient Function \n",
    "    # This function, estimate_coef(), takes the input data  (independent variable) and y (dependent variable)\n",
    "    # and estimates the coefficents of the linear regression line using the least squares method. \n",
    "    \n",
    "    # Number of observations/points \n",
    "    n = np.size(x) #  Calcuating Number of Observations d = no.size(X) determines the number of data points. \n",
    "\n",
    "    # Mean of x and y vector \n",
    "    m_x = np.mean(x)\n",
    "    m_y = np.mean(y)\n",
    "\n",
    "\n",
    "    # Calcuating cross-deviation and deviation about x \n",
    "    SS_xy = np.sum(y*x) - n*m_y*m_x\n",
    "    SS_xx = np.sum(x*x) - n*m_x*m_x\n",
    "\n",
    "    # Calculating regression coefficients \n",
    "    b_1 = SS_xy / SS_xx\n",
    "    b_0 = m_y - b_1*m_x\n",
    "\n",
    "    return (b_0, b_1) # The function returns the estimated coefficients as a tuple (b_0, b_1)"
   ]
  },
  {
   "cell_type": "code",
   "execution_count": 14,
   "id": "b8e78d6b-703f-47a7-9aa8-52ceeb64d6e1",
   "metadata": {},
   "outputs": [],
   "source": [
    "def plot_regression_line (x, y, b):\n",
    "    # Plotting the actual points as scatter plot \n",
    "    plt.scatter(x, y, color = \"m\",\n",
    "            marker = \"o\", s = 30)\n",
    "\n",
    "    # Predicted response vector \n",
    "    # Calculates the predicted values for y based on the estimated coeffients b. \n",
    "    y_pred = b [0] + b [1]*x \n",
    "\n",
    "    # Plotting the regression line \n",
    "    # Plots the regression lines using the predicted values and the independent variable x. \n",
    "    plt.plot(x, y_pred, color = \"g\")\n",
    "\n",
    "    # Putting labels \n",
    "    # Labels the x-ais as 'x' and y-axis 'y' , respectively. \n",
    "    plt.xlabes(\"x\")\n",
    "    plt.ylabel(\"y\")"
   ]
  },
  {
   "cell_type": "code",
   "execution_count": null,
   "id": "8a06bc7f-4c7b-4d87-98f6-53201b7867d8",
   "metadata": {},
   "outputs": [],
   "source": []
  }
 ],
 "metadata": {
  "kernelspec": {
   "display_name": "Python 3 (ipykernel)",
   "language": "python",
   "name": "python3"
  },
  "language_info": {
   "codemirror_mode": {
    "name": "ipython",
    "version": 3
   },
   "file_extension": ".py",
   "mimetype": "text/x-python",
   "name": "python",
   "nbconvert_exporter": "python",
   "pygments_lexer": "ipython3",
   "version": "3.10.9"
  }
 },
 "nbformat": 4,
 "nbformat_minor": 5
}
